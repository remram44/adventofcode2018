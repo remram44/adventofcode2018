{
 "cells": [
  {
   "cell_type": "code",
   "execution_count": 2,
   "metadata": {},
   "outputs": [],
   "source": [
    "import itertools"
   ]
  },
  {
   "cell_type": "code",
   "execution_count": 3,
   "metadata": {},
   "outputs": [],
   "source": [
    "import re\n",
    "\n",
    "re_puzzle = re.compile(r'^([0-9]+) players; last marble is worth ([0-9]+) points$')"
   ]
  },
  {
   "cell_type": "code",
   "execution_count": 4,
   "metadata": {},
   "outputs": [],
   "source": [
    "players, marbles = (int(n) for n in re_puzzle.match(puzzle).groups())"
   ]
  },
  {
   "cell_type": "code",
   "execution_count": 5,
   "metadata": {},
   "outputs": [],
   "source": [
    "def play(players, marbles, show=0):\n",
    "    step = marbles / 20\n",
    "    scores = [0] * players\n",
    "    circle = [0]\n",
    "    current_marble = 0\n",
    "    for player, marble in zip(itertools.cycle(range(players)), range(1, marbles + 1)):\n",
    "        if marble % 23 != 0:\n",
    "            current_marble = (current_marble + 2) % len(circle)\n",
    "            if current_marble == 0:\n",
    "                current_marble = len(circle)  # Just to match example output\n",
    "            circle.insert(current_marble, marble)\n",
    "        else:\n",
    "            scores[player] += marble\n",
    "            current_marble = (current_marble - 7) % len(circle)\n",
    "            scores[player] += circle[current_marble]\n",
    "            del circle[current_marble]\n",
    "\n",
    "        if marble <= show:\n",
    "            print('[%2d] ' % (player + 1), end='')\n",
    "            for i, m in enumerate(circle):\n",
    "                if i == current_marble:\n",
    "                    print('(%2d)' % m, end='')\n",
    "                elif i == current_marble + 1:\n",
    "                    print('%2d' % m, end='')\n",
    "                else:\n",
    "                    print(' %2d' % m, end='')\n",
    "            print()\n",
    "        elif marble % step == 0:\n",
    "            print('%d/%d...' % (marble, marbles))\n",
    "    return scores"
   ]
  },
  {
   "cell_type": "code",
   "execution_count": 6,
   "metadata": {},
   "outputs": [
    {
     "name": "stdout",
     "output_type": "stream",
     "text": [
      "[ 1]   0( 1)\n",
      "[ 2]   0( 2) 1\n",
      "[ 3]   0  2  1( 3)\n",
      "[ 4]   0( 4) 2  1  3\n",
      "[ 5]   0  4  2( 5) 1  3\n",
      "[ 6]   0  4  2  5  1( 6) 3\n",
      "[ 7]   0  4  2  5  1  6  3( 7)\n",
      "[ 8]   0( 8) 4  2  5  1  6  3  7\n",
      "[ 9]   0  8  4( 9) 2  5  1  6  3  7\n",
      "[10]   0  8  4  9  2(10) 5  1  6  3  7\n",
      "[11]   0  8  4  9  2 10  5(11) 1  6  3  7\n",
      "[12]   0  8  4  9  2 10  5 11  1(12) 6  3  7\n",
      "[13]   0  8  4  9  2 10  5 11  1 12  6(13) 3  7\n",
      "[14]   0  8  4  9  2 10  5 11  1 12  6 13  3(14) 7\n",
      "[15]   0  8  4  9  2 10  5 11  1 12  6 13  3 14  7(15)\n",
      "[16]   0(16) 8  4  9  2 10  5 11  1 12  6 13  3 14  7 15\n",
      "[17]   0 16  8(17) 4  9  2 10  5 11  1 12  6 13  3 14  7 15\n",
      "[18]   0 16  8 17  4(18) 9  2 10  5 11  1 12  6 13  3 14  7 15\n",
      "[19]   0 16  8 17  4 18  9(19) 2 10  5 11  1 12  6 13  3 14  7 15\n",
      "[20]   0 16  8 17  4 18  9 19  2(20)10  5 11  1 12  6 13  3 14  7 15\n",
      "[21]   0 16  8 17  4 18  9 19  2 20 10(21) 5 11  1 12  6 13  3 14  7 15\n",
      "[22]   0 16  8 17  4 18  9 19  2 20 10 21  5(22)11  1 12  6 13  3 14  7 15\n",
      "[23]   0 16  8 17  4 18(19) 2 20 10 21  5 22 11  1 12  6 13  3 14  7 15\n",
      "[24]   0 16  8 17  4 18 19  2(24)20 10 21  5 22 11  1 12  6 13  3 14  7 15\n",
      "[25]   0 16  8 17  4 18 19  2 24 20(25)10 21  5 22 11  1 12  6 13  3 14  7 15\n"
     ]
    },
    {
     "data": {
      "text/plain": [
       "399745"
      ]
     },
     "execution_count": 6,
     "metadata": {},
     "output_type": "execute_result"
    }
   ],
   "source": [
    "max(play(players, marbles, show=25))"
   ]
  },
  {
   "cell_type": "code",
   "execution_count": 1,
   "metadata": {},
   "outputs": [],
   "source": [
    "puzzle = '''\\\n",
    "427 players; last marble is worth 70723 points\n",
    "'''"
   ]
  }
 ],
 "metadata": {
  "kernelspec": {
   "display_name": "Python 3",
   "language": "python",
   "name": "python3"
  },
  "language_info": {
   "codemirror_mode": {
    "name": "ipython",
    "version": 3
   },
   "file_extension": ".py",
   "mimetype": "text/x-python",
   "name": "python",
   "nbconvert_exporter": "python",
   "pygments_lexer": "ipython3",
   "version": "3.6.3"
  }
 },
 "nbformat": 4,
 "nbformat_minor": 2
}
