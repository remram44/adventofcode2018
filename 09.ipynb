{
 "cells": [
  {
   "cell_type": "code",
   "execution_count": 2,
   "metadata": {},
   "outputs": [],
   "source": [
    "import itertools"
   ]
  },
  {
   "cell_type": "code",
   "execution_count": 3,
   "metadata": {},
   "outputs": [],
   "source": [
    "import re\n",
    "\n",
    "re_puzzle = re.compile(r'^([0-9]+) players; last marble is worth ([0-9]+) points$')"
   ]
  },
  {
   "cell_type": "code",
   "execution_count": 4,
   "metadata": {},
   "outputs": [],
   "source": [
    "players, marbles = (int(n) for n in re_puzzle.match(puzzle).groups())"
   ]
  },
  {
   "cell_type": "code",
   "execution_count": 5,
   "metadata": {},
   "outputs": [],
   "source": [
    "class LinkedList(object):\n",
    "    def __init__(self, value):\n",
    "        self.value = value\n",
    "        self.prev = self\n",
    "        self.next = self\n",
    "\n",
    "    def remove(self):\n",
    "        self.next.prev = self.prev\n",
    "        self.prev.next = self.next\n",
    "        return self.value\n",
    "    \n",
    "    def index(self, relative):\n",
    "        node = self\n",
    "        while relative > 0:\n",
    "            relative -= 1\n",
    "            node = node.next\n",
    "        while relative < 0:\n",
    "            relative += 1\n",
    "            node = node.prev\n",
    "        return node\n",
    "\n",
    "    def insert_left(self, value):\n",
    "        value = LinkedList(value)\n",
    "        value.prev = self.prev\n",
    "        value.next = self\n",
    "        self.prev.next = value\n",
    "        self.prev = value\n",
    "        return value"
   ]
  },
  {
   "cell_type": "code",
   "execution_count": 6,
   "metadata": {},
   "outputs": [],
   "source": [
    "def play(players, marbles, show=0):\n",
    "    step = marbles / 20\n",
    "    scores = [0] * players\n",
    "    circle = LinkedList(0)\n",
    "    for player, marble in zip(itertools.cycle(range(players)), range(1, marbles + 1)):\n",
    "        if marble % 23 != 0:\n",
    "            circle = circle.index(+2)\n",
    "            circle = circle.insert_left(marble)\n",
    "        else:\n",
    "            scores[player] += marble\n",
    "            remove = circle.index(-7)\n",
    "            circle = remove.index(+1)\n",
    "            scores[player] += remove.remove()\n",
    "\n",
    "        if marble <= show:\n",
    "            print('[%2d] ' % (player + 1), end='')\n",
    "            start_show = circle\n",
    "            pos = circle.next\n",
    "            # Print from lowest number\n",
    "            while pos is not circle:\n",
    "                if pos.value < start_show.value:\n",
    "                    start_show = pos\n",
    "                pos = pos.next\n",
    "            pos = start_show\n",
    "            printed = 0\n",
    "            while printed == 0 or pos is not start_show:\n",
    "                if pos is circle:\n",
    "                    print('(%2d)' % pos.value, end='')\n",
    "                elif printed and pos.prev is circle:\n",
    "                    print('%2d' % pos.value, end='')\n",
    "                else:\n",
    "                    print(' %2d' % pos.value, end='')\n",
    "                pos = pos.next\n",
    "                printed += 1\n",
    "            print()\n",
    "        elif marble % step == 0:\n",
    "            print('%d/%d...' % (marble, marbles))\n",
    "    return scores"
   ]
  },
  {
   "cell_type": "code",
   "execution_count": 7,
   "metadata": {},
   "outputs": [
    {
     "name": "stdout",
     "output_type": "stream",
     "text": [
      "[ 1]   0( 1)\n",
      "[ 2]   0( 2) 1\n",
      "[ 3]   0  2  1( 3)\n",
      "[ 4]   0( 4) 2  1  3\n",
      "[ 5]   0  4  2( 5) 1  3\n",
      "[ 6]   0  4  2  5  1( 6) 3\n",
      "[ 7]   0  4  2  5  1  6  3( 7)\n",
      "[ 8]   0( 8) 4  2  5  1  6  3  7\n",
      "[ 9]   0  8  4( 9) 2  5  1  6  3  7\n",
      "[10]   0  8  4  9  2(10) 5  1  6  3  7\n",
      "[11]   0  8  4  9  2 10  5(11) 1  6  3  7\n",
      "[12]   0  8  4  9  2 10  5 11  1(12) 6  3  7\n",
      "[13]   0  8  4  9  2 10  5 11  1 12  6(13) 3  7\n",
      "[14]   0  8  4  9  2 10  5 11  1 12  6 13  3(14) 7\n",
      "[15]   0  8  4  9  2 10  5 11  1 12  6 13  3 14  7(15)\n",
      "[16]   0(16) 8  4  9  2 10  5 11  1 12  6 13  3 14  7 15\n",
      "[17]   0 16  8(17) 4  9  2 10  5 11  1 12  6 13  3 14  7 15\n",
      "[18]   0 16  8 17  4(18) 9  2 10  5 11  1 12  6 13  3 14  7 15\n",
      "[19]   0 16  8 17  4 18  9(19) 2 10  5 11  1 12  6 13  3 14  7 15\n",
      "[20]   0 16  8 17  4 18  9 19  2(20)10  5 11  1 12  6 13  3 14  7 15\n",
      "[21]   0 16  8 17  4 18  9 19  2 20 10(21) 5 11  1 12  6 13  3 14  7 15\n",
      "[22]   0 16  8 17  4 18  9 19  2 20 10 21  5(22)11  1 12  6 13  3 14  7 15\n",
      "[23]   0 16  8 17  4 18(19) 2 20 10 21  5 22 11  1 12  6 13  3 14  7 15\n",
      "[24]   0 16  8 17  4 18 19  2(24)20 10 21  5 22 11  1 12  6 13  3 14  7 15\n",
      "[25]   0 16  8 17  4 18 19  2 24 20(25)10 21  5 22 11  1 12  6 13  3 14  7 15\n"
     ]
    },
    {
     "data": {
      "text/plain": [
       "399745"
      ]
     },
     "execution_count": 7,
     "metadata": {},
     "output_type": "execute_result"
    }
   ],
   "source": [
    "max(play(players, marbles, show=25))"
   ]
  },
  {
   "cell_type": "code",
   "execution_count": 8,
   "metadata": {},
   "outputs": [
    {
     "name": "stdout",
     "output_type": "stream",
     "text": [
      "353615/7072300...\n",
      "707230/7072300...\n",
      "1060845/7072300...\n",
      "1414460/7072300...\n",
      "1768075/7072300...\n",
      "2121690/7072300...\n",
      "2475305/7072300...\n",
      "2828920/7072300...\n",
      "3182535/7072300...\n",
      "3536150/7072300...\n",
      "3889765/7072300...\n",
      "4243380/7072300...\n",
      "4596995/7072300...\n",
      "4950610/7072300...\n",
      "5304225/7072300...\n",
      "5657840/7072300...\n",
      "6011455/7072300...\n",
      "6365070/7072300...\n",
      "6718685/7072300...\n",
      "7072300/7072300...\n"
     ]
    },
    {
     "data": {
      "text/plain": [
       "3349098263"
      ]
     },
     "execution_count": 8,
     "metadata": {},
     "output_type": "execute_result"
    }
   ],
   "source": [
    "max(play(players, marbles * 100))"
   ]
  },
  {
   "cell_type": "code",
   "execution_count": 1,
   "metadata": {},
   "outputs": [],
   "source": [
    "puzzle = '''\\\n",
    "427 players; last marble is worth 70723 points\n",
    "'''"
   ]
  }
 ],
 "metadata": {
  "kernelspec": {
   "display_name": "Python 3",
   "language": "python",
   "name": "python3"
  },
  "language_info": {
   "codemirror_mode": {
    "name": "ipython",
    "version": 3
   },
   "file_extension": ".py",
   "mimetype": "text/x-python",
   "name": "python",
   "nbconvert_exporter": "python",
   "pygments_lexer": "ipython3",
   "version": "3.6.3"
  }
 },
 "nbformat": 4,
 "nbformat_minor": 2
}
