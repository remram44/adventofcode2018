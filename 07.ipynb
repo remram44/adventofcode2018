{
 "cells": [
  {
   "cell_type": "code",
   "execution_count": 2,
   "metadata": {},
   "outputs": [],
   "source": [
    "import re\n",
    "\n",
    "re_dep = re.compile(r'^Step ([A-Z]) must be finished before step ([A-Z]) can begin.$')"
   ]
  },
  {
   "cell_type": "code",
   "execution_count": 9,
   "metadata": {},
   "outputs": [],
   "source": [
    "ready = set()\n",
    "dependencies = {}\n",
    "dependents = {}\n",
    "for l in puzzle.splitlines():\n",
    "    m = re_dep.match(l)\n",
    "    assert m\n",
    "    dependency, dependent = m.groups()\n",
    "    if not dependencies.get(dependency):\n",
    "        ready.add(dependency)\n",
    "    ready.discard(dependent)\n",
    "    dependencies.setdefault(dependent, set()).add(dependency)\n",
    "    dependents.setdefault(dependency, set()).add(dependent)"
   ]
  },
  {
   "cell_type": "code",
   "execution_count": 4,
   "metadata": {},
   "outputs": [],
   "source": [
    "def next_task():\n",
    "    if not ready:\n",
    "        return None\n",
    "    which = min(ready)\n",
    "    ready.discard(which)\n",
    "    return which"
   ]
  },
  {
   "cell_type": "code",
   "execution_count": 5,
   "metadata": {},
   "outputs": [],
   "source": [
    "def finish_task(task):\n",
    "    for dependent in dependents.get(task, []):\n",
    "        dependencies[dependent].discard(task)\n",
    "        if not dependencies[dependent]:\n",
    "            ready.add(dependent)"
   ]
  },
  {
   "cell_type": "code",
   "execution_count": 6,
   "metadata": {},
   "outputs": [
    {
     "name": "stdout",
     "output_type": "stream",
     "text": [
      "GKRVWBESYAMZDPTIUCFXQJLHNO"
     ]
    }
   ],
   "source": [
    "while ready:\n",
    "    task = next_task()\n",
    "    print(task, end='')\n",
    "    finish_task(task)"
   ]
  },
  {
   "cell_type": "code",
   "execution_count": 7,
   "metadata": {},
   "outputs": [],
   "source": [
    "def duration(task):\n",
    "    return 61 + ord(task) - ord('A')"
   ]
  },
  {
   "cell_type": "code",
   "execution_count": 8,
   "metadata": {},
   "outputs": [],
   "source": [
    "WORKERS = 5"
   ]
  },
  {
   "cell_type": "code",
   "execution_count": 10,
   "metadata": {},
   "outputs": [],
   "source": [
    "tasks = []\n",
    "workers = [(None, 0)] * WORKERS\n",
    "time = 0"
   ]
  },
  {
   "cell_type": "code",
   "execution_count": 11,
   "metadata": {},
   "outputs": [
    {
     "data": {
      "text/plain": [
       "903"
      ]
     },
     "execution_count": 11,
     "metadata": {},
     "output_type": "execute_result"
    }
   ],
   "source": [
    "while True:\n",
    "    step_to = None\n",
    "    for i, (current_task, when) in enumerate(workers):\n",
    "        if current_task is None:\n",
    "            # If there are idle workers, give them work\n",
    "            task = next_task()\n",
    "            if task is None:\n",
    "                workers[i] = None, time\n",
    "                continue\n",
    "            else:\n",
    "                when = time + duration(task)\n",
    "                workers[i] = task, when\n",
    "                tasks.append((i, task, time, when))\n",
    "        # Find the minimum step forward to finish a task\n",
    "        if step_to is None or step_to > when:\n",
    "            step_to = when\n",
    "\n",
    "    # Move forward\n",
    "    if step_to is None:\n",
    "        break\n",
    "    time = step_to\n",
    "\n",
    "    # Finish tasks\n",
    "    for i, (current_task, when) in enumerate(workers):\n",
    "        if current_task is not None and when <= time:\n",
    "            finish_task(current_task)\n",
    "            workers[i] = None, time\n",
    "time"
   ]
  },
  {
   "cell_type": "code",
   "execution_count": 12,
   "metadata": {},
   "outputs": [
    {
     "data": {
      "image/png": "[encoded data removed]",
      "text/plain": [
       "<Figure size 1200x700 with 1 Axes>"
      ]
     },
     "execution_count": 12,
     "metadata": {},
     "output_type": "execute_result"
    }
   ],
   "source": [
    "from matplotlib import pyplot\n",
    "\n",
    "fig, ax = pyplot.subplots(figsize=(12, 7))\n",
    "for worker, task, start, end in tasks:\n",
    "    ax.bar(start + (end - start) / 2.0, 1, end - start, worker - 0.5)\n",
    "    ax.text((start + end) / 2.0, worker, task)\n",
    "fig"
   ]
  },
  {
   "cell_type": "code",
   "execution_count": 1,
   "metadata": {},
   "outputs": [],
   "source": [
    "puzzle = '''\\\n",
    "Step W must be finished before step B can begin.\n",
    "Step G must be finished before step T can begin.\n",
    "Step B must be finished before step P can begin.\n",
    "Step R must be finished before step M can begin.\n",
    "Step K must be finished before step Q can begin.\n",
    "Step Z must be finished before step X can begin.\n",
    "Step V must be finished before step S can begin.\n",
    "Step D must be finished before step U can begin.\n",
    "Step Y must be finished before step J can begin.\n",
    "Step A must be finished before step C can begin.\n",
    "Step M must be finished before step U can begin.\n",
    "Step E must be finished before step X can begin.\n",
    "Step T must be finished before step F can begin.\n",
    "Step U must be finished before step C can begin.\n",
    "Step C must be finished before step Q can begin.\n",
    "Step S must be finished before step N can begin.\n",
    "Step X must be finished before step H can begin.\n",
    "Step F must be finished before step L can begin.\n",
    "Step Q must be finished before step J can begin.\n",
    "Step P must be finished before step J can begin.\n",
    "Step I must be finished before step L can begin.\n",
    "Step J must be finished before step L can begin.\n",
    "Step L must be finished before step N can begin.\n",
    "Step H must be finished before step O can begin.\n",
    "Step N must be finished before step O can begin.\n",
    "Step B must be finished before step S can begin.\n",
    "Step A must be finished before step T can begin.\n",
    "Step G must be finished before step K can begin.\n",
    "Step Z must be finished before step N can begin.\n",
    "Step V must be finished before step I can begin.\n",
    "Step Z must be finished before step Q can begin.\n",
    "Step I must be finished before step J can begin.\n",
    "Step S must be finished before step I can begin.\n",
    "Step P must be finished before step I can begin.\n",
    "Step B must be finished before step C can begin.\n",
    "Step M must be finished before step L can begin.\n",
    "Step G must be finished before step Z can begin.\n",
    "Step M must be finished before step C can begin.\n",
    "Step U must be finished before step F can begin.\n",
    "Step B must be finished before step Y can begin.\n",
    "Step W must be finished before step U can begin.\n",
    "Step G must be finished before step M can begin.\n",
    "Step M must be finished before step J can begin.\n",
    "Step C must be finished before step L can begin.\n",
    "Step K must be finished before step D can begin.\n",
    "Step S must be finished before step X can begin.\n",
    "Step Q must be finished before step N can begin.\n",
    "Step V must be finished before step N can begin.\n",
    "Step R must be finished before step C can begin.\n",
    "Step E must be finished before step H can begin.\n",
    "Step D must be finished before step P can begin.\n",
    "Step H must be finished before step N can begin.\n",
    "Step X must be finished before step O can begin.\n",
    "Step K must be finished before step Y can begin.\n",
    "Step R must be finished before step F can begin.\n",
    "Step L must be finished before step O can begin.\n",
    "Step Y must be finished before step M can begin.\n",
    "Step T must be finished before step I can begin.\n",
    "Step T must be finished before step Q can begin.\n",
    "Step B must be finished before step F can begin.\n",
    "Step C must be finished before step N can begin.\n",
    "Step V must be finished before step M can begin.\n",
    "Step T must be finished before step N can begin.\n",
    "Step S must be finished before step L can begin.\n",
    "Step P must be finished before step H can begin.\n",
    "Step X must be finished before step Q can begin.\n",
    "Step Z must be finished before step I can begin.\n",
    "Step Q must be finished before step O can begin.\n",
    "Step I must be finished before step N can begin.\n",
    "Step E must be finished before step P can begin.\n",
    "Step R must be finished before step L can begin.\n",
    "Step P must be finished before step L can begin.\n",
    "Step T must be finished before step H can begin.\n",
    "Step G must be finished before step X can begin.\n",
    "Step J must be finished before step H can begin.\n",
    "Step G must be finished before step V can begin.\n",
    "Step K must be finished before step N can begin.\n",
    "Step R must be finished before step Q can begin.\n",
    "Step Z must be finished before step T can begin.\n",
    "Step E must be finished before step F can begin.\n",
    "Step Y must be finished before step H can begin.\n",
    "Step P must be finished before step N can begin.\n",
    "Step S must be finished before step O can begin.\n",
    "Step L must be finished before step H can begin.\n",
    "Step W must be finished before step E can begin.\n",
    "Step X must be finished before step N can begin.\n",
    "Step Z must be finished before step D can begin.\n",
    "Step A must be finished before step H can begin.\n",
    "Step T must be finished before step X can begin.\n",
    "Step E must be finished before step Q can begin.\n",
    "Step K must be finished before step U can begin.\n",
    "Step M must be finished before step T can begin.\n",
    "Step J must be finished before step O can begin.\n",
    "Step D must be finished before step N can begin.\n",
    "Step K must be finished before step A can begin.\n",
    "Step G must be finished before step E can begin.\n",
    "Step R must be finished before step H can begin.\n",
    "Step W must be finished before step M can begin.\n",
    "Step U must be finished before step N can begin.\n",
    "Step Q must be finished before step H can begin.\n",
    "Step Y must be finished before step A can begin.\n",
    "'''"
   ]
  }
 ],
 "metadata": {
  "kernelspec": {
   "display_name": "Python 3",
   "language": "python",
   "name": "python3"
  },
  "language_info": {
   "codemirror_mode": {
    "name": "ipython",
    "version": 3
   },
   "file_extension": ".py",
   "mimetype": "text/x-python",
   "name": "python",
   "nbconvert_exporter": "python",
   "pygments_lexer": "ipython3",
   "version": "3.6.3"
  }
 },
 "nbformat": 4,
 "nbformat_minor": 2
}
