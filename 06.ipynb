{
 "cells": [
  {
   "cell_type": "code",
   "execution_count": 2,
   "metadata": {},
   "outputs": [],
   "source": [
    "import re\n",
    "re_coords = re.compile(r'^([0-9]+), ([0-9]+)$')"
   ]
  },
  {
   "cell_type": "code",
   "execution_count": 3,
   "metadata": {},
   "outputs": [],
   "source": [
    "INF = float('inf')"
   ]
  },
  {
   "cell_type": "code",
   "execution_count": 4,
   "metadata": {},
   "outputs": [
    {
     "data": {
      "text/plain": [
       "50"
      ]
     },
     "execution_count": 4,
     "metadata": {},
     "output_type": "execute_result"
    }
   ],
   "source": [
    "# Parse coordinates\n",
    "coords = []\n",
    "for l in puzzle.splitlines():\n",
    "    m = re_coords.match(l)\n",
    "    assert m\n",
    "    x = int(m.group(1))\n",
    "    y = int(m.group(2))\n",
    "    coords.append((x, y))\n",
    "len(coords)"
   ]
  },
  {
   "cell_type": "code",
   "execution_count": 5,
   "metadata": {},
   "outputs": [
    {
     "data": {
      "text/plain": [
       "(40, 353, 52, 358)"
      ]
     },
     "execution_count": 5,
     "metadata": {},
     "output_type": "execute_result"
    }
   ],
   "source": [
    "# Determine field size\n",
    "xmin, xmax = INF, -INF\n",
    "ymin, ymax = INF, -INF\n",
    "for x, y in coords:\n",
    "    xmin, xmax = min(xmin, x), max(xmax, x)\n",
    "    ymin, ymax = min(ymin, y), max(ymax, y)\n",
    "xmin, xmax, ymin, ymax"
   ]
  },
  {
   "cell_type": "code",
   "execution_count": 6,
   "metadata": {},
   "outputs": [],
   "source": [
    "# Allocate array for the field\n",
    "# Each cell will store which is the closest coordinate, and the distance\n",
    "field = [\n",
    "    [(None, INF) for x in range(xmin - 1, xmax + 2)]\n",
    "    for y in range(ymin - 1, ymax + 2)\n",
    "]"
   ]
  },
  {
   "cell_type": "code",
   "execution_count": 7,
   "metadata": {},
   "outputs": [],
   "source": [
    "area = [0] * len(coords)"
   ]
  },
  {
   "cell_type": "code",
   "execution_count": 8,
   "metadata": {},
   "outputs": [
    {
     "data": {
      "text/plain": [
       "(77, 279)"
      ]
     },
     "execution_count": 8,
     "metadata": {},
     "output_type": "execute_result"
    }
   ],
   "source": [
    "coords[0]"
   ]
  },
  {
   "cell_type": "code",
   "execution_count": 9,
   "metadata": {},
   "outputs": [],
   "source": [
    "from matplotlib import pyplot\n",
    "import numpy\n",
    "import os\n",
    "\n",
    "os.mkdir('anim_06')\n",
    "\n",
    "def plot_field(field, iteration):\n",
    "    field_np = numpy.array(\n",
    "        [\n",
    "            [-1 if i is None else i for i, d in row]\n",
    "            for row in field\n",
    "        ],\n",
    "        dtype=int,\n",
    "    )\n",
    "    fig, ax = pyplot.subplots(figsize=(10, 10))\n",
    "    ax.imshow(field_np)\n",
    "    fig.savefig('anim_06/%03d.png' % iteration)\n",
    "    pyplot.close(fig)"
   ]
  },
  {
   "cell_type": "code",
   "execution_count": 10,
   "metadata": {},
   "outputs": [
    {
     "name": "stdout",
     "output_type": "stream",
     "text": [
      ".................................................."
     ]
    }
   ],
   "source": [
    "# Add each point to the field\n",
    "for i, (x, y) in enumerate(coords):\n",
    "    print('.', end='')\n",
    "    open_list = [(x - xmin + 1, y - ymin + 1, 0)]  # Cells to process\n",
    "    closed_set = set()  # Cells already processed\n",
    "    while open_list:\n",
    "        # Get next cell to process\n",
    "        x, y, dist = open_list.pop(0)\n",
    "        #print(\"process %d, %d dist=%d\" % (x, y, dist))\n",
    "\n",
    "        # Update the field\n",
    "        current_i, current_dist = field[y][x]\n",
    "        if current_dist > dist:\n",
    "            # `i` is closer, update the cell\n",
    "            field[y][x] = i, dist\n",
    "            if current_i is not None:\n",
    "                area[current_i] -= 1\n",
    "            area[i] += 1\n",
    "        elif current_dist == dist:\n",
    "            # `i` is exactly as close, doesn't count\n",
    "            field[y][x] = None, dist\n",
    "            if current_i is not None:\n",
    "                area[current_i] -= 1\n",
    "\n",
    "        # Add neighbors to the open list\n",
    "        for xr, yr in [(1, 0), (0, 1), (-1, 0), (0, -1)]:\n",
    "            x2, y2 = x + xr, y + yr\n",
    "            if (0 <= x2 < xmax - xmin + 3 and\n",
    "                    0 <= y2 < ymax - ymin + 3):\n",
    "                if (x2, y2) not in closed_set:\n",
    "                    open_list.append((x2, y2, dist + 1))\n",
    "                    closed_set.add((x2, y2))\n",
    "\n",
    "    plot_field(field, i)"
   ]
  },
  {
   "cell_type": "code",
   "execution_count": 11,
   "metadata": {},
   "outputs": [],
   "source": [
    "# Find those areas that are infinite\n",
    "infinite = set()\n",
    "for x in range(0, xmax - xmin + 3):\n",
    "    infinite.add(field[0][x][0])\n",
    "    infinite.add(field[ymax - ymin + 2][x][0])\n",
    "for y in range(0, ymax - ymin + 3):\n",
    "    infinite.add(field[y][0][0])\n",
    "    infinite.add(field[y][xmax - xmin + 2][0])"
   ]
  },
  {
   "cell_type": "code",
   "execution_count": 12,
   "metadata": {},
   "outputs": [
    {
     "data": {
      "text/plain": [
       "3006"
      ]
     },
     "execution_count": 12,
     "metadata": {},
     "output_type": "execute_result"
    }
   ],
   "source": [
    "max(a for i, a in enumerate(area) if i not in infinite)"
   ]
  },
  {
   "cell_type": "code",
   "execution_count": 1,
   "metadata": {},
   "outputs": [],
   "source": [
    "puzzle = '''\\\n",
    "77, 279\n",
    "216, 187\n",
    "72, 301\n",
    "183, 82\n",
    "57, 170\n",
    "46, 335\n",
    "55, 89\n",
    "71, 114\n",
    "313, 358\n",
    "82, 88\n",
    "78, 136\n",
    "339, 314\n",
    "156, 281\n",
    "260, 288\n",
    "125, 249\n",
    "150, 130\n",
    "210, 271\n",
    "190, 258\n",
    "73, 287\n",
    "187, 332\n",
    "283, 353\n",
    "66, 158\n",
    "108, 97\n",
    "237, 278\n",
    "243, 160\n",
    "61, 52\n",
    "353, 107\n",
    "260, 184\n",
    "234, 321\n",
    "181, 270\n",
    "104, 84\n",
    "290, 109\n",
    "193, 342\n",
    "43, 294\n",
    "134, 211\n",
    "50, 129\n",
    "92, 112\n",
    "309, 130\n",
    "291, 170\n",
    "89, 204\n",
    "186, 177\n",
    "286, 302\n",
    "188, 145\n",
    "40, 52\n",
    "254, 292\n",
    "270, 287\n",
    "238, 216\n",
    "299, 184\n",
    "141, 264\n",
    "117, 129\n",
    "'''"
   ]
  }
 ],
 "metadata": {
  "kernelspec": {
   "display_name": "Python 3",
   "language": "python",
   "name": "python3"
  },
  "language_info": {
   "codemirror_mode": {
    "name": "ipython",
    "version": 3
   },
   "file_extension": ".py",
   "mimetype": "text/x-python",
   "name": "python",
   "nbconvert_exporter": "python",
   "pygments_lexer": "ipython3",
   "version": "3.6.3"
  }
 },
 "nbformat": 4,
 "nbformat_minor": 2
}
